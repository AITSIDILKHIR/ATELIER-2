{
  "nbformat": 4,
  "nbformat_minor": 0,
  "metadata": {
    "colab": {
      "provenance": []
    },
    "kernelspec": {
      "name": "python3",
      "display_name": "Python 3"
    },
    "language_info": {
      "name": "python"
    }
  },
  "cells": [
    {
      "cell_type": "markdown",
      "source": [
        "AIT SIDI LKHIR ALI\n",
        "\n",
        "MASTER DATA SCIENCE POUR FINANCE ET ECONOMIE\n",
        "\n",
        "ATELIER 2"
      ],
      "metadata": {
        "id": "fUFtoomfPF5k"
      }
    },
    {
      "cell_type": "markdown",
      "source": [
        "**EXERCICE 1**\n",
        "\n",
        " Créer une liste en choisissant des éléments d'index impair dans la première liste et des éléments d'index pair dans la seconde"
      ],
      "metadata": {
        "id": "1N3sMjbquSiq"
      }
    },
    {
      "cell_type": "code",
      "execution_count": null,
      "metadata": {
        "id": "pUGQfiBSX5Jp"
      },
      "outputs": [],
      "source": [
        "liste_1=[]\n",
        "liste_2=[]\n",
        "liste_3=[]\n",
        "n=int(input(\"entrer la dimention de la premiere liste   \"))\n",
        "for i in range(n):\n",
        "    a= int(input(\"entrer l'element liste_1[\"+str(i)+\" ] de la liste_1 \" ))\n",
        "    liste_1.append(a) \n",
        "print(\"************************************************\")\n",
        "m=int(input(\"entrer la dimention de ladeuxieme liste   \"))\n",
        "for i in range(m):\n",
        "    b= int(input(\"entrer l'element liste_2[\"+str(i)+\" ] de la liste_2 \" ))\n",
        "    liste_2.append(b) \n",
        "print(\"************************************************\")\n",
        "print (\" la liste_1 est :\",liste_1)\n",
        "print(\"la liste_2 est :\",liste_2)\n",
        "for i in range(len(liste_1)):\n",
        "    if i%2 !=0:\n",
        "        liste_3.append(liste_1[i])\n",
        "for i in range(len(liste_2)):\n",
        "    if i%2 ==0:\n",
        "        liste_3.append(liste_2[i])\n",
        "print(\" la liste_3 est:\",liste_3)\n",
        "    "
      ]
    },
    {
      "cell_type": "markdown",
      "source": [],
      "metadata": {
        "id": "smPkj6KfPDZ8"
      }
    },
    {
      "cell_type": "markdown",
      "source": [
        "**EXERCICE 2**  \n",
        "Deviser la liste en 3 morceaux égaux et inverser chaque morceau"
      ],
      "metadata": {
        "id": "TpXMoO36ug61"
      }
    },
    {
      "cell_type": "code",
      "source": [
        "liste=[]\n",
        "morceau_1=[]\n",
        "morceau_2=[]\n",
        "morceau_3=[]\n",
        "\n",
        "n=int(input(\"entrer la dimention de la liste   \"))\n",
        "for i in range(n):\n",
        "    a= int(input(\"entrer l'element liste_1[\"+str(i)+\" ] de la liste_1 \" ))\n",
        "    liste.append(a) \n",
        "\n",
        "for i in range(0,n//3):\n",
        "    morceau_1.append(liste[i])\n",
        "    \n",
        "for i in range((n//3),2*(n//3)):\n",
        "    morceau_2.append(liste[i])\n",
        "for i in range(2*(n//3),n):\n",
        "    morceau_3.append(liste[i])\n",
        "    \n",
        "\n",
        "    \n",
        "print(\"************************************************\")\n",
        "print(\"************************************************\")\n",
        "print(\"la liste est\",liste)\n",
        "print(\"le premier morceau est :\",morceau_1)\n",
        "print(\"le deuxieme morceau est :\",morceau_2)\n",
        "print(\"le troisieme morceau est :\",morceau_3)"
      ],
      "metadata": {
        "id": "j6A02uaAusah"
      },
      "execution_count": null,
      "outputs": []
    },
    {
      "cell_type": "markdown",
      "source": [
        "***EXERCICE 3 ***`\n",
        "\n",
        "Écrire un programme pour itérer une liste donnée et compter l'occurrence de chaque élément et\n",
        "créer un dictionnaire pour montrer le nombre de chaque élément."
      ],
      "metadata": {
        "id": "gL6IS5pcH-pS"
      }
    },
    {
      "cell_type": "code",
      "source": [
        "liste=[]\n",
        "dictionnaire=dict({})\n",
        "compte=0\n",
        "n=int(input(\"entrer la dimension de la liste :\"))\n",
        "for i in range(n):\n",
        "  #remplire la liste\n",
        "    liste.append(int(input(\"entrer l'element liste [\"+str(i)+\"]\")))\n",
        "    \n",
        "for i in range(n):\n",
        "    \n",
        "    dictionnaire[liste[i]]=liste.count(liste[i])\n",
        "        \n",
        "print(dictionnaire)"
      ],
      "metadata": {
        "colab": {
          "base_uri": "https://localhost:8080/"
        },
        "id": "XCptIHC5Jdje",
        "outputId": "3d74ff14-c486-4701-c4a8-c0287e96b39c"
      },
      "execution_count": null,
      "outputs": [
        {
          "output_type": "stream",
          "name": "stdout",
          "text": [
            "entrer la dimension de la liste :4\n",
            "entrer l'element liste [0]1\n",
            "entrer l'element liste [1]1\n",
            "entrer l'element liste [2]1\n",
            "entrer l'element liste [3]5\n",
            "{1: 3, 5: 1}\n"
          ]
        }
      ]
    },
    {
      "cell_type": "markdown",
      "source": [
        "**EXERCICE 4** \n",
        "\n",
        "Trouver l'intersection (commune) de deux Sets et supprimez ces éléments du premier Set"
      ],
      "metadata": {
        "id": "ccvp4jQIkWhg"
      }
    },
    {
      "cell_type": "code",
      "source": [
        "set_1={23, 42, 65, 57, 78, 83, 29}\n",
        "\n",
        "set_2={57, 83, 29, 67, 73, 43, 48}\n",
        "n=int(input(\"nombre d'elements de la premiere set\"))\n",
        "m=int(input(\"nombre d'elements de la deuxieme set\"))\n",
        "set_1.clear()\n",
        "set_2.clear()\n",
        "\n",
        "for i in range(n):\n",
        "    a=int(input(\"entrer le premier element de la premiere set\"))\n",
        "    set_1.add(a)\n",
        "for i in range(m):\n",
        "    a=int(input(\"entrer le premier element de la deuxieme set\"))\n",
        "    set_2.add(a)\n",
        "\n",
        "    \n",
        "set_3={}\n",
        "\n",
        "\n",
        "\n",
        "print(\"*******************************************\")\n",
        "print(\"*******************************************\")\n",
        "print(\"set numero 1 est : \",set_1)\n",
        "print(\"set numero 2 est : \",set_2)\n",
        "set_3=set_1.intersection(set_2)\n",
        "print(\"l'intersection des deux sets est:\",set_3 )\n",
        "print(\"*******************************************\")\n",
        "print(\"******la suppression des elements de l'intersection ********\")\n",
        "for v in set_3:\n",
        "    set_1.remove(v)\n",
        "print(\"le set numero 1 devien aprés suppression:\")\n",
        "print(set_1)\n"
      ],
      "metadata": {
        "id": "qDu5JgnQknwN"
      },
      "execution_count": null,
      "outputs": []
    },
    {
      "cell_type": "markdown",
      "source": [
        "**EXERCICE 5**\n",
        "\n",
        " Itérer une liste donnée et vérifier si un élément donné existe en tant que valeur de clé dans un dictionnaire. Sinon, supprimez-le de la liste\n"
      ],
      "metadata": {
        "id": "pcUsBxePcAF9"
      }
    },
    {
      "cell_type": "code",
      "source": [
        "dictionnaire=dict({})\n",
        "liste=[]\n",
        "liste_2=[]\n",
        "liste_3=[]\n",
        "n=int(input(\"entrer le nombre d'element de la liste :\"))\n",
        "for i in range(n): \n",
        "    # remplire la liste\n",
        "    \n",
        "    liste.append(int(input(\"entrer l'element \"+str(i+1)+ \" de la liste :  \")))\n",
        "    \n",
        "m=int(input(\"entrer le nombre d'element du dictionnaire :\"))\n",
        "\n",
        "for i in range(n):\n",
        "    # remplire le dictionnaire\n",
        "    \n",
        "    a=input(\"entrer la clé numero \" +str(i+1)+ \" : \")\n",
        "    b=input(\"entrer la valeur de la clé  :\")\n",
        "    print(\"********************\")\n",
        "    dictionnaire[a]= b\n",
        "#print(dictionnaire)\n",
        "for v in dictionnaire.values():\n",
        "    liste_2.append(int(v))\n",
        "for i in range(len(liste)):\n",
        "    if liste[i] in liste_2:\n",
        "        liste_3.append(liste[i])\n",
        "\n",
        "liste=liste_3\n",
        "\n",
        "        \n",
        "print(\"*********************\")\n",
        "print(\"la liste devient:\",liste)\n",
        "print(dictionnaire)\n",
        "\n",
        "\n",
        "\n",
        "\n",
        "    \n",
        "\n"
      ],
      "metadata": {
        "colab": {
          "base_uri": "https://localhost:8080/"
        },
        "id": "S-5qTFWZcNTJ",
        "outputId": "ca300d46-6510-4d32-8869-f41b3274934d"
      },
      "execution_count": 1,
      "outputs": [
        {
          "output_type": "stream",
          "name": "stdout",
          "text": [
            "entrer le nombre d'element de la liste :2\n",
            "entrer l'element 1 de la liste :  1\n",
            "entrer l'element 2 de la liste :  2\n",
            "entrer le nombre d'element du dictionnaire :2\n",
            "entrer la clé numero 1 : A\n",
            "entrer la valeur de la clé  :1\n",
            "********************\n",
            "entrer la clé numero 2 : B\n",
            "entrer la valeur de la clé  :5\n",
            "********************\n",
            "*********************\n",
            "la liste devient: [1]\n",
            "{'A': '1', 'B': '5'}\n"
          ]
        }
      ]
    },
    {
      "cell_type": "code",
      "source": [],
      "metadata": {
        "id": "AM1sMeShklNE"
      },
      "execution_count": null,
      "outputs": []
    }
  ]
}